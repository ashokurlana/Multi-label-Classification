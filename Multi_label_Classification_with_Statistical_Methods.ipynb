{
  "nbformat": 4,
  "nbformat_minor": 0,
  "metadata": {
    "colab": {
      "provenance": []
    },
    "kernelspec": {
      "name": "python3",
      "display_name": "Python 3"
    },
    "language_info": {
      "name": "python"
    }
  },
  "cells": [
    {
      "cell_type": "markdown",
      "metadata": {
        "id": "PN7rNfKPvsjZ"
      },
      "source": [
        "**Libraries to Install**"
      ]
    },
    {
      "cell_type": "code",
      "metadata": {
        "colab": {
          "base_uri": "https://localhost:8080/"
        },
        "id": "kbkBP8KNvRb1",
        "outputId": "f20f69e6-c31a-44d4-abb5-249528adcd85"
      },
      "source": [
        "%matplotlib inline\n",
        "import re\n",
        "import matplotlib\n",
        "import numpy as np\n",
        "import matplotlib.pyplot as plt\n",
        "!pip install pandas\n",
        "import pandas as pd\n",
        "from sklearn.model_selection import train_test_split\n",
        "from sklearn.feature_extraction.text import TfidfVectorizer\n",
        "from sklearn.naive_bayes import MultinomialNB\n",
        "from sklearn.metrics import accuracy_score\n",
        "from sklearn.metrics import f1_score\n",
        "from sklearn.metrics import label_ranking_average_precision_score\n",
        "from sklearn.multiclass import OneVsRestClassifier\n",
        "!pip install scikit-multilearn\n",
        "from skmultilearn.problem_transform import BinaryRelevance\n",
        "import nltk\n",
        "nltk.download('stopwords')\n",
        "from nltk.corpus import stopwords\n",
        "stop_words = set(stopwords.words('english'))\n",
        "from sklearn.svm import LinearSVC\n",
        "from sklearn.linear_model import LogisticRegression\n",
        "from sklearn.pipeline import Pipeline\n",
        "import seaborn as sns\n"
      ],
      "execution_count": null,
      "outputs": [
        {
          "output_type": "stream",
          "name": "stdout",
          "text": [
            "Requirement already satisfied: pandas in /usr/local/lib/python3.7/dist-packages (1.1.5)\n",
            "Requirement already satisfied: python-dateutil>=2.7.3 in /usr/local/lib/python3.7/dist-packages (from pandas) (2.8.2)\n",
            "Requirement already satisfied: numpy>=1.15.4 in /usr/local/lib/python3.7/dist-packages (from pandas) (1.19.5)\n",
            "Requirement already satisfied: pytz>=2017.2 in /usr/local/lib/python3.7/dist-packages (from pandas) (2018.9)\n",
            "Requirement already satisfied: six>=1.5 in /usr/local/lib/python3.7/dist-packages (from python-dateutil>=2.7.3->pandas) (1.15.0)\n",
            "Requirement already satisfied: scikit-multilearn in /usr/local/lib/python3.7/dist-packages (0.2.0)\n",
            "[nltk_data] Downloading package stopwords to /root/nltk_data...\n",
            "[nltk_data]   Package stopwords is already up-to-date!\n"
          ]
        }
      ]
    },
    {
      "cell_type": "code",
      "metadata": {
        "id": "5eVks-GHvG9C",
        "colab": {
          "base_uri": "https://localhost:8080/",
          "height": 217
        },
        "outputId": "3125c76e-5188-4cd5-e0b6-fec7f8b927b8"
      },
      "source": [
        "#df = pd.read_csv(\"/content/drive/MyDrive/Summary_evaluation/Relevance.csv\", encoding = \"utf-8\")\n",
        "df = pd.read_csv(\"/content/drive/MyDrive/Summary_evaluation/creativity.csv\", skipinitialspace=True)\n",
        "#df = pd.read_csv(\"/content/drive/MyDrive/Summary_evaluation/readability.csv\", encoding = \"utf-8\")\n",
        "df.head()"
      ],
      "execution_count": 1,
      "outputs": [
        {
          "output_type": "error",
          "ename": "NameError",
          "evalue": "ignored",
          "traceback": [
            "\u001b[0;31m---------------------------------------------------------------------------\u001b[0m",
            "\u001b[0;31mNameError\u001b[0m                                 Traceback (most recent call last)",
            "\u001b[0;32m<ipython-input-1-5a4353fc6a8e>\u001b[0m in \u001b[0;36m<module>\u001b[0;34m\u001b[0m\n\u001b[1;32m      1\u001b[0m \u001b[0;31m#df = pd.read_csv(\"/content/drive/MyDrive/Summary_evaluation/Relevance.csv\", encoding = \"utf-8\")\u001b[0m\u001b[0;34m\u001b[0m\u001b[0;34m\u001b[0m\u001b[0;34m\u001b[0m\u001b[0m\n\u001b[0;32m----> 2\u001b[0;31m \u001b[0mdf\u001b[0m \u001b[0;34m=\u001b[0m \u001b[0mpd\u001b[0m\u001b[0;34m.\u001b[0m\u001b[0mread_csv\u001b[0m\u001b[0;34m(\u001b[0m\u001b[0;34m\"/content/drive/MyDrive/Summary_evaluation/creativity.csv\"\u001b[0m\u001b[0;34m,\u001b[0m \u001b[0mskipinitialspace\u001b[0m\u001b[0;34m=\u001b[0m\u001b[0;32mTrue\u001b[0m\u001b[0;34m)\u001b[0m\u001b[0;34m\u001b[0m\u001b[0;34m\u001b[0m\u001b[0m\n\u001b[0m\u001b[1;32m      3\u001b[0m \u001b[0;31m#df = pd.read_csv(\"/content/drive/MyDrive/Summary_evaluation/readability.csv\", encoding = \"utf-8\")\u001b[0m\u001b[0;34m\u001b[0m\u001b[0;34m\u001b[0m\u001b[0;34m\u001b[0m\u001b[0m\n\u001b[1;32m      4\u001b[0m \u001b[0mdf\u001b[0m\u001b[0;34m.\u001b[0m\u001b[0mhead\u001b[0m\u001b[0;34m(\u001b[0m\u001b[0;34m)\u001b[0m\u001b[0;34m\u001b[0m\u001b[0;34m\u001b[0m\u001b[0m\n",
            "\u001b[0;31mNameError\u001b[0m: name 'pd' is not defined"
          ]
        }
      ]
    },
    {
      "cell_type": "markdown",
      "metadata": {
        "id": "511o5R6QvyPT"
      },
      "source": [
        "Number of comments in each category\n"
      ]
    },
    {
      "cell_type": "code",
      "metadata": {
        "colab": {
          "base_uri": "https://localhost:8080/",
          "height": 173
        },
        "id": "ABzJHmjTvhBo",
        "outputId": "ca026edc-777f-456b-c517-adff585db56b"
      },
      "source": [
        "df_toxic = df.drop(['text'], axis=1)\n",
        "counts = []\n",
        "categories = list(df_toxic.columns.values)\n",
        "for i in categories:\n",
        "    counts.append((i, df_toxic[i].sum()))\n",
        "df_stats = pd.DataFrame(counts, columns=['category', 'number_of_comments'])\n",
        "df_stats"
      ],
      "execution_count": null,
      "outputs": [
        {
          "output_type": "execute_result",
          "data": {
            "text/html": [
              "<div>\n",
              "<style scoped>\n",
              "    .dataframe tbody tr th:only-of-type {\n",
              "        vertical-align: middle;\n",
              "    }\n",
              "\n",
              "    .dataframe tbody tr th {\n",
              "        vertical-align: top;\n",
              "    }\n",
              "\n",
              "    .dataframe thead th {\n",
              "        text-align: right;\n",
              "    }\n",
              "</style>\n",
              "<table border=\"1\" class=\"dataframe\">\n",
              "  <thead>\n",
              "    <tr style=\"text-align: right;\">\n",
              "      <th></th>\n",
              "      <th>category</th>\n",
              "      <th>number_of_comments</th>\n",
              "    </tr>\n",
              "  </thead>\n",
              "  <tbody>\n",
              "    <tr>\n",
              "      <th>0</th>\n",
              "      <td>Lengthy summary</td>\n",
              "      <td>250</td>\n",
              "    </tr>\n",
              "    <tr>\n",
              "      <th>1</th>\n",
              "      <td>Novel sentence structure is missing</td>\n",
              "      <td>703</td>\n",
              "    </tr>\n",
              "    <tr>\n",
              "      <th>2</th>\n",
              "      <td>Copied sentences present</td>\n",
              "      <td>54</td>\n",
              "    </tr>\n",
              "    <tr>\n",
              "      <th>3</th>\n",
              "      <td>Sentence formation needs to be improved</td>\n",
              "      <td>91</td>\n",
              "    </tr>\n",
              "  </tbody>\n",
              "</table>\n",
              "</div>"
            ],
            "text/plain": [
              "                                  category  number_of_comments\n",
              "0                          Lengthy summary                 250\n",
              "1      Novel sentence structure is missing                 703\n",
              "2                 Copied sentences present                  54\n",
              "3  Sentence formation needs to be improved                  91"
            ]
          },
          "metadata": {},
          "execution_count": 104
        }
      ]
    },
    {
      "cell_type": "code",
      "metadata": {
        "colab": {
          "base_uri": "https://localhost:8080/",
          "height": 570
        },
        "id": "Keap5gsuv_b-",
        "outputId": "cd8b1674-5ab7-4715-919d-a3df04dab926"
      },
      "source": [
        "df_stats.plot(x='category', y='number_of_comments', kind='bar', legend=False, grid=True, figsize=(8, 5))\n",
        "plt.title(\"Number of comments per category\")\n",
        "plt.ylabel('# of Occurrences', fontsize=12)\n",
        "plt.xlabel('category', fontsize=12)"
      ],
      "execution_count": null,
      "outputs": [
        {
          "output_type": "execute_result",
          "data": {
            "text/plain": [
              "Text(0.5, 0, 'category')"
            ]
          },
          "metadata": {},
          "execution_count": 105
        },
        {
          "output_type": "display_data",
          "data": {
            "image/png": "[encoded data removed]",
            "text/plain": [
              "<Figure size 576x360 with 1 Axes>"
            ]
          },
          "metadata": {
            "needs_background": "light"
          }
        }
      ]
    },
    {
      "cell_type": "markdown",
      "metadata": {
        "id": "buYGZKWMwT6U"
      },
      "source": [
        "## Howmany common mistakes have multiple labels?"
      ]
    },
    {
      "cell_type": "code",
      "metadata": {
        "colab": {
          "base_uri": "https://localhost:8080/",
          "height": 424
        },
        "id": "oOQOacmBwLZT",
        "outputId": "8fb36fad-3651-4120-8bef-77a7eef257a0"
      },
      "source": [
        "rowsums = df.iloc[:,2:].sum(axis=1)\n",
        "x=rowsums.value_counts()\n",
        "#plot\n",
        "plt.figure(figsize=(8,5))\n",
        "ax = sns.barplot(x.index, x.values)\n",
        "plt.title(\"Multiple categories per comment\")\n",
        "plt.ylabel('# of Occurrences', fontsize=12)\n",
        "plt.xlabel('# of categories', fontsize=12)"
      ],
      "execution_count": null,
      "outputs": [
        {
          "output_type": "stream",
          "name": "stderr",
          "text": [
            "/usr/local/lib/python3.7/dist-packages/seaborn/_decorators.py:43: FutureWarning: Pass the following variables as keyword args: x, y. From version 0.12, the only valid positional argument will be `data`, and passing other arguments without an explicit keyword will result in an error or misinterpretation.\n",
            "  FutureWarning\n"
          ]
        },
        {
          "output_type": "execute_result",
          "data": {
            "text/plain": [
              "Text(0.5, 0, '# of categories')"
            ]
          },
          "metadata": {},
          "execution_count": 106
        },
        {
          "output_type": "display_data",
          "data": {
            "image/png": "[encoded data removed]",
            "text/plain": [
              "<Figure size 576x360 with 1 Axes>"
            ]
          },
          "metadata": {
            "needs_background": "light"
          }
        }
      ]
    },
    {
      "cell_type": "code",
      "metadata": {
        "id": "BYqljnF0Q7dW"
      },
      "source": [],
      "execution_count": null,
      "outputs": []
    },
    {
      "cell_type": "markdown",
      "metadata": {
        "id": "qwJrJetaQ-KQ"
      },
      "source": [
        "Vast majority of the comment text are not labeled.\n"
      ]
    },
    {
      "cell_type": "code",
      "metadata": {
        "colab": {
          "base_uri": "https://localhost:8080/"
        },
        "id": "uIIotKc6Q-0P",
        "outputId": "c315b177-73e9-4955-bc73-7d3b4a5f7077"
      },
      "source": [
        "print('Percentage of comments that are not labelled:')\n",
        "print(len(df[(df['Lengthy summary']==0) & (df['Novel sentence structure is missing']==0) & (df['Copied sentences present']==0) & (df['Sentence formation needs to be improved']== 0)]) / len(df))\n",
        "#print(len(df[(df['Relevant information is missing']==0) & (df['Irrelevant information is added']==0) & (df['Out of context information is added']==0) & (df['Misleading original context']== 0) & (df['Factual incorrectness']==0) & (df['Repetitive information is found']==0)]) / len(df))\n",
        "#print(len(df[(df['Relevant information is missing']==0) & (df['Irrelevant information added']==0) & (df['Out of context information added']==0) & (df['Misleading original context']== 0) & (df['Factual incorrectness']==0) & (df['Repetitive information found']==0)]) / len(df))\n",
        "#print(len(df[(df['syntax or semantic errors']==0) & (df['coherence issue']== 0) & (df['understandability issue']==0) & (df['unnatural sentence formations ']==0)]) / len(df))"
      ],
      "execution_count": null,
      "outputs": [
        {
          "output_type": "stream",
          "name": "stdout",
          "text": [
            "Percentage of comments that are not labelled:\n",
            "0.5599137931034482\n"
          ]
        }
      ]
    },
    {
      "cell_type": "markdown",
      "metadata": {
        "id": "MOKd1lrqRvU-"
      },
      "source": [
        "## **The distribution of the number of words in comment texts.**"
      ]
    },
    {
      "cell_type": "code",
      "metadata": {
        "colab": {
          "base_uri": "https://localhost:8080/",
          "height": 282
        },
        "id": "f9dW_0NGRBrg",
        "outputId": "9b483fc8-b51d-42a9-daff-9880e48c8e9e"
      },
      "source": [
        "lens = df.text.str.len()\n",
        "lens.hist(bins = np.arange(0,5000,50))"
      ],
      "execution_count": null,
      "outputs": [
        {
          "output_type": "execute_result",
          "data": {
            "text/plain": [
              "<matplotlib.axes._subplots.AxesSubplot at 0x7fb36159a5d0>"
            ]
          },
          "metadata": {},
          "execution_count": 108
        },
        {
          "output_type": "display_data",
          "data": {
            "image/png": "[encoded data removed]",
            "text/plain": [
              "<Figure size 432x288 with 1 Axes>"
            ]
          },
          "metadata": {
            "needs_background": "light"
          }
        }
      ]
    },
    {
      "cell_type": "markdown",
      "metadata": {
        "id": "KtQWXOxJSFkl"
      },
      "source": [
        "There is no missing comment in comment text column.\n"
      ]
    },
    {
      "cell_type": "code",
      "metadata": {
        "colab": {
          "base_uri": "https://localhost:8080/"
        },
        "id": "X9K-Pr6FRpGI",
        "outputId": "10d4945b-2551-4acb-b6f0-a2a066d4e2a4"
      },
      "source": [
        "print('Number of missing comments in comment text:')\n",
        "df['text'].isnull().sum()"
      ],
      "execution_count": null,
      "outputs": [
        {
          "output_type": "stream",
          "name": "stdout",
          "text": [
            "Number of missing comments in comment text:\n"
          ]
        },
        {
          "output_type": "execute_result",
          "data": {
            "text/plain": [
              "0"
            ]
          },
          "metadata": {},
          "execution_count": 109
        }
      ]
    },
    {
      "cell_type": "markdown",
      "metadata": {
        "id": "aLSsnTt4SU6C"
      },
      "source": [
        "Have a peek the first comment, the text needs to be cleaned.\n"
      ]
    },
    {
      "cell_type": "code",
      "metadata": {
        "colab": {
          "base_uri": "https://localhost:8080/",
          "height": 120
        },
        "id": "j3jqUHy4SO23",
        "outputId": "399c9e2d-8051-4b2f-d8ae-5fd76cf8976d"
      },
      "source": [
        "df['text'][0]"
      ],
      "execution_count": null,
      "outputs": [
        {
          "output_type": "execute_result",
          "data": {
            "application/vnd.google.colaboratory.intrinsic+json": {
              "type": "string"
            },
            "text/plain": [
              "'విజయవాడలో ఆర్టీసీ కార్మిక సంఘాల నేతలతో ఎండీ సురేంద్రబాబు సమావేశం ముగిసింది. సమ్మె నోటీసు ఇచ్చిన ఈయూ సహా 10 సంఘాల జేఏసీ నేతలతో ఎండీ సురేంద్రబాబు చర్చించారు. సమావేశం అనంతరం ఎండీ సురేంద్రబాబు సహా ఇతర అధికారులు, కార్మిక సంఘాల నేతలు సచివాలయానికి బయలుదేరి వెళ్లారు. సచివాలయంలో కార్మిక సంఘాల నేతలతో సీఎం జగన్ చర్చలు జరపనున్నారు. సమ్మె నోటీసులోని డిమాండ్ల పరిష్కారంపై సీఎం చర్చించనున్నారు. సీఎంతో చర్చల్లో రవాణా శాఖ మంత్రి పేర్ని నానితో పాటు రవాణా శాఖ ముఖ్య కార్యదర్శి కృష్ణబాబు కూడా పాల్గొననున్నారు. ఆర్టీసీ విలీనానికి సంబంధించి తీసుకుంటున్న చర్యలపై సీఎం జగన్ చర్చించనున్నారు. ఆర్టీసీ కార్మికులు ఎదుర్కొంటున్న సమస్యల పరిష్కారంపై, ప్రభుత్వం నుంచి తాత్కాలిక సాయానికి సంబంధించిన అంశంపై సీఎం వివరించనున్నారు. సీఎం నుంచి హామీ రాగానే సమ్మె యోచన విరమణపై కార్మిక సంఘాలు ప్రకటన చేయనున్నాయి.\\nవిజయవాడలో ఆర్టీసీ కార్మిక సంఘాలతో,10 సంఘాల జేఏసీ నేతలతో ఎండీ సురేంద్రబాబు చర్చించి సచివాలయానికి వెళ్లారు. సచివాలయంలో వీరందరితో సీఎం జగన్ సమ్మె నోటీసులోని డిమాండ్ల పరిష్కారంపై, ఆర్టీసీ విలీనానికి గురించి, ఆర్టీసీ కార్మికుల సమస్యల పరిష్కరించడానికి తాత్కాలిక సాయం గురించి సీఎం చర్చించనున్నారు. సీఎం హామీలను బట్టి సమ్మె విరమణపై కార్మిక సంఘాలు ప్రకటన చేయనున్నాయి.'"
            ]
          },
          "metadata": {},
          "execution_count": 110
        }
      ]
    },
    {
      "cell_type": "code",
      "metadata": {
        "id": "WwJGOsnWSH1L"
      },
      "source": [
        "def clean_text(text):\n",
        "    text = text.lower()\n",
        "    text = re.sub(r\"what's\", \"what is \", text)\n",
        "    text = re.sub(r\"\\'s\", \" \", text)\n",
        "    text = re.sub(r\"\\'ve\", \" have \", text)\n",
        "    text = re.sub(r\"can't\", \"can not \", text)\n",
        "    text = re.sub(r\"n't\", \" not \", text)\n",
        "    text = re.sub(r\"i'm\", \"i am \", text)\n",
        "    text = re.sub(r\"\\'re\", \" are \", text)\n",
        "    text = re.sub(r\"\\'d\", \" would \", text)\n",
        "    text = re.sub(r\"\\'ll\", \" will \", text)\n",
        "    text = re.sub(r\"\\'scuse\", \" excuse \", text)\n",
        "    text = re.sub('\\W', ' ', text)\n",
        "    text = re.sub('\\s+', ' ', text)\n",
        "    text = text.strip(' ')\n",
        "    return text"
      ],
      "execution_count": null,
      "outputs": []
    },
    {
      "cell_type": "code",
      "metadata": {
        "id": "8sutetGMSluK"
      },
      "source": [
        "# df['comment_text'] = df['comment_text'].map(lambda com : clean_text(com))\n",
        "# df['comment_text'][0]"
      ],
      "execution_count": null,
      "outputs": []
    },
    {
      "cell_type": "code",
      "metadata": {
        "id": "luuKtGm1T0Af"
      },
      "source": [
        "train, test = train_test_split(df, random_state=42, test_size=0.20, shuffle=True)\n",
        "train_text = train['text'].values.astype('U')\n",
        "test_text = test['text'].values.astype('U')\n",
        "#vectorizer = TfidfVectorizer(strip_accents='unicode', analyzer='word', ngram_range=(2,3), norm='l2', max_features = 10000)\n",
        "vectorizer = TfidfVectorizer(strip_accents='unicode', analyzer='char', ngram_range=(2,3), norm='l2', max_features = 10000)\n",
        "#vectorizer = TfidfVectorizer(strip_accents='unicode', analyzer='word', token_pattern = r'\\w{1,}', max_features = 10000)\n",
        "vectorizer.fit(train_text)\n",
        "vectorizer.fit(test_text)\n",
        "x_train = vectorizer.transform(train_text)\n",
        "y_train = train.drop(labels = ['text'], axis=1)\n",
        "x_test = vectorizer.transform(test_text)\n",
        "y_test = test.drop(labels = ['text'], axis=1)\n"
      ],
      "execution_count": null,
      "outputs": []
    },
    {
      "cell_type": "code",
      "metadata": {
        "id": "qDeKcEa4UcO9"
      },
      "source": [
        "# #Binary Relevance\n",
        "# br_classifier.fit(x_train, y_train)\n",
        "# br_predictions = br_classifier.predict(x_test)\n",
        "# print(\"Accuracy = \",accuracy_score(y_test,br_predictions.toarray()))\n",
        "# print(\"F1 score = \",F1_score(y_test,br_predictions, average=\"micro\"))\n",
        "# print(\"Hamming loss = \",hamming_loss(y_test,br_predictions))"
      ],
      "execution_count": null,
      "outputs": []
    },
    {
      "cell_type": "markdown",
      "metadata": {
        "id": "q35Be-l4SpsD"
      },
      "source": [
        "Split the data to train and test sets:\n"
      ]
    },
    {
      "cell_type": "code",
      "metadata": {
        "colab": {
          "base_uri": "https://localhost:8080/"
        },
        "id": "aZY6tVJNSmut",
        "outputId": "435d578f-288b-49fb-c79c-9ce1fc955bd9"
      },
      "source": [
        "#categories = ['Relevant information is missing','Irrelevant information is added', 'Out of context information is added', 'Misleading original context', 'Factual incorrectness', 'Repetitive information is found' ]\n",
        "#categories = ['Relevant information is missing','Irrelevant information added', 'Out of context information added', 'Misleading original context', 'Factual incorrectness', 'Repetitive information found' ]\n",
        "#categories = ['syntax or semantic errors', 'coherence issue', 'understandability issue', 'unnatural sentence formations ']\n",
        "categories = ['Lengthy summary', 'Novel sentence structure is missing', 'Copied sentences present', 'Sentence formation needs to be improved']\n",
        "train, test = train_test_split(df, random_state=42, test_size=0.2, shuffle=True)\n",
        "X_train = train.text\n",
        "X_test = test.text\n",
        "print(X_train.shape)\n",
        "print(X_test.shape)"
      ],
      "execution_count": null,
      "outputs": [
        {
          "output_type": "stream",
          "name": "stdout",
          "text": [
            "(1856,)\n",
            "(464,)\n"
          ]
        }
      ]
    },
    {
      "cell_type": "markdown",
      "metadata": {
        "id": "C7ccABlwTORO"
      },
      "source": [
        "## Classifier Traning"
      ]
    },
    {
      "cell_type": "markdown",
      "metadata": {
        "id": "H8QGv2dUU__-"
      },
      "source": [
        "## Naive Bayes"
      ]
    },
    {
      "cell_type": "code",
      "metadata": {
        "colab": {
          "base_uri": "https://localhost:8080/"
        },
        "id": "R6d8s7nW2hy9",
        "outputId": "9b0b4a95-d5b0-4684-d575-e1c8888c192f"
      },
      "source": [
        "# Define a pipeline combining a text feature extractor with multi lable classifier\n",
        "from sklearn.metrics import precision_score\n",
        "from sklearn.metrics import recall_score\n",
        "from sklearn.metrics import f1_score\n",
        "NB_pipeline = Pipeline([\n",
        "                ('tfidf', TfidfVectorizer(stop_words=stop_words)),\n",
        "                ('clf', OneVsRestClassifier(MultinomialNB(\n",
        "                    fit_prior=True, class_prior=None))),\n",
        "            ])\n",
        "accuracy_avg=[]\n",
        "f1=[]\n",
        "for category in categories:\n",
        "    #print('... Processing {}'.format(category))\n",
        "    # train the model using X_dtm & y\n",
        "    NB_pipeline.fit(X_train, train[category])\n",
        "    # compute the testing accuracy\n",
        "    prediction = NB_pipeline.predict(X_test)\n",
        "    #print(prediction)\n",
        "    accuracy_avg.append(accuracy_score(test[category], prediction))\n",
        "    f1.append(f1_score(test[category], prediction, average=\"macro\"))\n",
        "    #print(precision_score(test[category], prediction))\n",
        "    #print(recall_score(test[category], prediction))\n",
        "    #print('Test accuracy is {}'.format(accuracy_score(test[category], prediction)))\n",
        "print(accuracy_avg)\n",
        "print(f1)\n",
        "print(\"Average accuracy for the Relevance is:\", sum(accuracy_avg)/len(accuracy_avg))\n",
        "print(\"Average fmeaure for the Relevance is:\", sum(f1)/len(f1))"
      ],
      "execution_count": null,
      "outputs": [
        {
          "output_type": "stream",
          "name": "stdout",
          "text": [
            "[0.5555555555555556, 0.6722222222222223, 0.9944444444444445, 0.7888888888888889, 0.9666666666666667, 0.9611111111111111]\n",
            "[0.40740740740740744, 0.4019933554817276, 0.4986072423398329, 0.4409937888198758, 0.4915254237288135, 0.49008498583569404]\n",
            "Average accuracy for the Relevance is: 0.8231481481481482\n",
            "Average fmeaure for the Relevance is: 0.45510203393555854\n"
          ]
        }
      ]
    },
    {
      "cell_type": "markdown",
      "metadata": {
        "id": "DhUYIVCuVJVY"
      },
      "source": [
        "# LinearSVC\n"
      ]
    },
    {
      "cell_type": "code",
      "metadata": {
        "colab": {
          "base_uri": "https://localhost:8080/"
        },
        "id": "ho7WfuTVTb-d",
        "outputId": "bdfe918f-1834-4717-8d49-03abd48f9ed4"
      },
      "source": [
        "SVC_pipeline = Pipeline([\n",
        "                ('tfidf', TfidfVectorizer(stop_words=stop_words)),\n",
        "                ('clf', OneVsRestClassifier(LinearSVC(class_weight='balanced'), n_jobs=1)),\n",
        "            ])\n",
        "accuracy_avg=[]\n",
        "f1=[]\n",
        "for category in categories:\n",
        "    #print('... Processing {}'.format(category))\n",
        "    # train the model using X_dtm & y\n",
        "    SVC_pipeline.fit(X_train, train[category])\n",
        "    # compute the testing accuracy\n",
        "    prediction = SVC_pipeline.predict(X_test)\n",
        "    accuracy_avg.append(accuracy_score(test[category], prediction))\n",
        "    f1.append(f1_score(test[category], prediction, average= \"macro\"))\n",
        "print(accuracy_avg)\n",
        "print(f1)\n",
        "#print('Test accuracy is {}'.format(accuracy_score(test[category], prediction)))\n",
        "#print(\"Average accuracy for the Relevance is:\", sum(accuracy_avg)/len(accuracy_avg))\n",
        "print(\"Average accuracy for the Readability is:\", sum(accuracy_avg)/len(accuracy_avg))\n",
        "print(\"Average fmeaure for the Relevance is:\", sum(f1)/len(f1))"
      ],
      "execution_count": null,
      "outputs": [
        {
          "output_type": "stream",
          "name": "stdout",
          "text": [
            "[0.5388888888888889, 0.5111111111111111, 0.9944444444444445, 0.7, 0.9611111111111111, 0.9611111111111111]\n",
            "[0.5336933112768812, 0.4403617863199548, 0.4986072423398329, 0.5496664195700519, 0.4900849858356941, 0.49008498583569404]\n",
            "Average accuracy for the Readability is: 0.7777777777777778\n",
            "Average fmeaure for the Relevance is: 0.5004164551963515\n"
          ]
        }
      ]
    },
    {
      "cell_type": "markdown",
      "metadata": {
        "id": "v4x7obEcVWf5"
      },
      "source": [
        "## Logistic Regression"
      ]
    },
    {
      "cell_type": "code",
      "metadata": {
        "id": "Rw4xLPnWVOh9"
      },
      "source": [
        "LogReg_pipeline = Pipeline([\n",
        "                ('tfidf', TfidfVectorizer(stop_words=stop_words)),\n",
        "                ('clf', OneVsRestClassifier(LogisticRegression(solver='sag', class_weight='balanced'), n_jobs=1)),\n",
        "            ])\n",
        "f1=[]\n",
        "for category in categories:\n",
        "    #print('... Processing {}'.format(category))\n",
        "    # train the model using X_dtm & y\n",
        "    LogReg_pipeline.fit(X_train, train[category])\n",
        "    # compute the testing accuracy\n",
        "    prediction = LogReg_pipeline.predict(X_test)\n",
        "    accuracy_avg.append(accuracy_score(test[category], prediction))\n",
        "    f1.append(f1_score(test[category], prediction, average= \"macro\"))\n",
        "    #print('Test accuracy is {}'.format(accuracy_score(test[category], prediction)))\n",
        "print(accuracy_avg)\n",
        "print(f1)\n",
        "#print('Test accuracy is {}'.format(accuracy_score(test[category], prediction)))\n",
        "#print(\"Average accuracy for the Relevance is:\", sum(accuracy_avg)/len(accuracy_avg))\n",
        "print(\"Average accuracy for the Readability is:\", sum(accuracy_avg)/len(accuracy_avg))\n",
        "print(\"Average accuracy for the Readability is:\", sum(f1)/len(f1))"
      ],
      "execution_count": null,
      "outputs": []
    },
    {
      "cell_type": "code",
      "metadata": {
        "id": "3PgwJYCUXs3m"
      },
      "source": [
        "from sklearn.model_selection import train_test_split\n",
        "X_train, X_test, y_train, y_test = train_test_split(\n",
        "df['text'], df[df.columns[1:]], test_size=0.2, random_state=200, shuffle=True)"
      ],
      "execution_count": null,
      "outputs": []
    },
    {
      "cell_type": "code",
      "metadata": {
        "id": "x3g5VNXhX4X1"
      },
      "source": [
        "from sklearn.feature_extraction.text import TfidfVectorizer\n",
        "vectorizer = TfidfVectorizer(strip_accents='unicode', analyzer='char', ngram_range=(1,3), norm='l2')\n",
        "vectorizer.fit(X_train)\n",
        "X_train = vectorizer.transform(X_train)\n",
        "X_test = vectorizer.transform(X_test)"
      ],
      "execution_count": null,
      "outputs": []
    },
    {
      "cell_type": "code",
      "metadata": {
        "id": "WKoW8ypcWSjX"
      },
      "source": [
        "from sklearn.multiclass import OneVsRestClassifier\n",
        "from sklearn.ensemble import RandomForestClassifier\n",
        "from sklearn.metrics import roc_auc_score\n",
        "from sklearn.metrics import accuracy_score\n"
      ],
      "execution_count": null,
      "outputs": []
    },
    {
      "cell_type": "code",
      "metadata": {
        "id": "v9H4xAuZWXAb"
      },
      "source": [
        "# Note: Session might be crashed while running the data of with zero labels\n",
        "from skmultilearn.problem_transform import BinaryRelevance\n",
        "from sklearn.naive_bayes import GaussianNB\n",
        "classifier = BinaryRelevance(GaussianNB())\n",
        "classifier.fit(X_train, y_train)\n",
        "predictions = classifier.predict(X_test)\n",
        "\n",
        "# mlb = MultiLabelBinarizer()\n",
        "# pred = mlb.fit_transform(predictions.toarray())\n",
        "# actual = mlb.fit_transform(y_test)\n",
        "# f1 = f1_score(actual)\n",
        "# print(\"f1_score: \", f1) \n",
        "\n",
        "print('AUC score: {}'.format(roc_auc_score(y_test,predictions.toarray())))\n",
        "print('Accuracy score: {}'.format(accuracy_score(y_test,predictions.toarray())))\n",
        "print('F1 score: {}'.format(f1_score(y_test,predictions.toarray(), average=\"macro\")))\n",
        "#f1.append(f1_score(test[category], prediction, average= \"macro\"))\n"
      ],
      "execution_count": null,
      "outputs": []
    },
    {
      "cell_type": "code",
      "metadata": {
        "id": "h4rG7q9BWcIE"
      },
      "source": [
        "from skmultilearn.problem_transform import ClassifierChain\n",
        "from sklearn.linear_model import LogisticRegression\n",
        "classifier = ClassifierChain(LogisticRegression())\n",
        "classifier.fit(X_train, y_train)\n",
        "predictions = classifier.predict(X_test)\n",
        "print('AUC score: {}'.format(roc_auc_score(y_test,predictions.toarray())))\n",
        "print('Accuracy score: {}'.format(accuracy_score(y_test,predictions.toarray())))\n",
        "print('F1 score: {}'.format(f1_score(y_test,predictions.toarray(), average=\"macro\")))"
      ],
      "execution_count": null,
      "outputs": []
    },
    {
      "cell_type": "code",
      "metadata": {
        "colab": {
          "base_uri": "https://localhost:8080/"
        },
        "id": "vaK_iU2wWrJy",
        "outputId": "f8147a7e-eaff-494a-bd98-4b85df230d65"
      },
      "source": [
        "from sklearn.multioutput import MultiOutputClassifier\n",
        "from sklearn.neighbors import KNeighborsClassifier\n",
        "clf = MultiOutputClassifier(KNeighborsClassifier()).fit(X_train, y_train)\n",
        "predictions = clf.predict(X_test)\n",
        "print('AUC score: {}'.format(roc_auc_score(y_test,predictions)))\n",
        "print('Accuracy score: {}'.format(accuracy_score(y_test,predictions)))\n",
        "print('F1 score: {}'.format(f1_score(y_test,predictions, average=\"macro\")))"
      ],
      "execution_count": null,
      "outputs": [
        {
          "output_type": "stream",
          "name": "stdout",
          "text": [
            "AUC score: 0.4960425146992311\n",
            "Accuracy score: 0.5926724137931034\n",
            "F1 score: 0.03225806451612903\n"
          ]
        }
      ]
    },
    {
      "cell_type": "code",
      "metadata": {
        "colab": {
          "base_uri": "https://localhost:8080/"
        },
        "id": "dhNkxJDOjllu",
        "outputId": "ab785428-5585-4298-bbab-a55d5789430b"
      },
      "source": [
        "import xgboost as xgb\n",
        "from sklearn.multioutput import MultiOutputClassifier\n",
        "# create XGBoost instance with default hyper-parameters\n",
        "xgb_estimator = xgb.XGBClassifier(objective='binary:logistic')\n",
        "\n",
        "# create MultiOutputClassifier instance with XGBoost model inside\n",
        "multilabel_model = MultiOutputClassifier(xgb_estimator)\n",
        "\n",
        "# fit the model\n",
        "clf = multilabel_model.fit(X_train, y_train)\n",
        "predictions = clf.predict(X_test)\n",
        "print('AUC score: {}'.format(roc_auc_score(y_test,predictions)))\n",
        "print('Accuracy score: {}'.format(accuracy_score(y_test,predictions)))\n",
        "print('F1 score: {}'.format(f1_score(y_test,predictions, average=\"macro\")))"
      ],
      "execution_count": null,
      "outputs": [
        {
          "output_type": "stream",
          "name": "stdout",
          "text": [
            "AUC score: 0.5145934755862702\n",
            "Accuracy score: 0.5560344827586207\n",
            "F1 score: 0.06584971720980339\n"
          ]
        }
      ]
    },
    {
      "cell_type": "code",
      "metadata": {
        "id": "PP7dJ7U8YKZi"
      },
      "source": [
        "from skmultilearn.problem_transform import LabelPowerset\n",
        "from sklearn.linear_model import LogisticRegression\n",
        "classifier = LabelPowerset(LogisticRegression())\n",
        "classifier.fit(X_train, y_train)\n",
        "predictions = classifier.predict(X_test)\n",
        "print('AUC score: {}'.format(roc_auc_score(y_test,predictions.toarray())))\n",
        "print('Accuracy score: {}'.format(accuracy_score(y_test,predictions.toarray())))\n",
        "print('F1 score: {}'.format(f1_score(y_test,predictions.toarray(), average=\"macro\")))"
      ],
      "execution_count": null,
      "outputs": []
    },
    {
      "cell_type": "code",
      "metadata": {
        "id": "NEP9HJh8fKGX"
      },
      "source": [
        "import numpy as np\n",
        "from skmultilearn.adapt import MLkNN\n",
        "#from sklearn.linear_model import LogisticRegression\n",
        "classifier = MLkNN(k=30)\n",
        "classifier.fit(X_train, y_train)\n",
        "predictions = classifier.predict(X_test)\n",
        "print('AUC score: {}'.format(roc_auc_score(y_test,predictions.toarray())))\n",
        "print('Accuracy score: {}'.format(accuracy_score(y_test,predictions.toarray())))"
      ],
      "execution_count": null,
      "outputs": []
    },
    {
      "cell_type": "code",
      "metadata": {
        "id": "aD5wXveUiAg9"
      },
      "source": [
        "from skmultilearn.adapt import MLkNN\n",
        "from sklearn.model_selection import GridSearchCV\n",
        "import time\n",
        "\n",
        "parameters = {'k': range(1,3), 's': [0.5, 0.7, 1.0]}\n",
        "score = 'f1_micro'\n",
        "\n",
        "start=time.time()\n",
        "\n",
        "classifier = GridSearchCV(MLkNN(), parameters, scoring=score)\n",
        "classifier.fit(X_train, y_train)\n",
        "\n",
        "print('training time taken: ',round(time.time()-start,0),'seconds')\n",
        "print('best parameters :', classifier.best_params_, 'best score: ',\n",
        "      clf.best_score_)\n"
      ],
      "execution_count": null,
      "outputs": []
    },
    {
      "cell_type": "code",
      "metadata": {
        "id": "Gzyqmkl-3g7x",
        "colab": {
          "base_uri": "https://localhost:8080/"
        },
        "outputId": "e5f2c737-c0a0-4558-8776-2215d848c054"
      },
      "source": [
        "def patk(actual, pred, k):\n",
        "\t#we return 0 if k is 0 because \n",
        "\t#   we can't divide the no of common values by 0 \n",
        "\tif k == 0:\n",
        "\t\treturn 0\n",
        "\n",
        "\t#taking only the top k predictions in a class \n",
        "\tk_pred = pred[:k]\n",
        "  #print(len(pred[:k]))\n",
        "\n",
        "\t#taking the set of the actual values \n",
        "\tactual_set = set(actual)\n",
        "  #print(actual_set)\n",
        "\n",
        "\t#taking the set of the predicted values \n",
        "\tpred_set = set(k_pred)\n",
        "  #print(pred_set)\n",
        "\t#taking the intersection of the actual set and the pred set\n",
        "\t\t# to find the common values\n",
        "\tcommon_values = actual_set.intersection(pred_set)\n",
        "  #print(len(common_values))\n",
        "\treturn len(common_values)/len(pred[:k])\n",
        "\n",
        "#defining the values of the actual and the predicted class\n",
        "y_true = [1 ,2, 0]\n",
        "y_pred = [1, 1, 0]\n",
        "\n",
        "if __name__ == \"__main__\":\n",
        "    print(patk(y_true, y_pred,3))\n",
        "    #print(len(pred[:k]))\n"
      ],
      "execution_count": null,
      "outputs": [
        {
          "output_type": "stream",
          "name": "stdout",
          "text": [
            "0.6666666666666666\n"
          ]
        }
      ]
    },
    {
      "cell_type": "markdown",
      "metadata": {
        "id": "2DwxR-EltBPK"
      },
      "source": [
        "##References\n",
        "\n",
        "1. https://towardsdatascience.com/multi-label-text-classification-with-scikit-learn-30714b7819c5\n",
        "2.https://medium.datadriveninvestor.com/multi-label-classification-case-study-stackoverflow-tag-predictor-832bb6bc18db\n",
        "3. https://datascience.stackexchange.com/questions/40900/whats-the-difference-between-sklearn-f1-score-micro-and-weighted-for-a-mult"
      ]
    }
  ]
}